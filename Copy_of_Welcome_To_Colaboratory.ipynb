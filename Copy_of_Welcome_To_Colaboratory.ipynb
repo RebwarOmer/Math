{
  "cells": [
    {
      "cell_type": "markdown",
      "metadata": {
        "id": "view-in-github",
        "colab_type": "text"
      },
      "source": [
        "<a href=\"https://colab.research.google.com/github/RebwarOmer/Math/blob/main/Copy_of_Welcome_To_Colaboratory.ipynb\" target=\"_parent\"><img src=\"https://colab.research.google.com/assets/colab-badge.svg\" alt=\"Open In Colab\"/></a>"
      ]
    },
    {
      "cell_type": "code",
      "source": [
        "#دکتۆر بۆی توان بنووسی دوجار هێمای کەرەت دابنێ **\n",
        "\n",
        "\n",
        "def bisection_method(f, a, b, tol):\n",
        "    \"\"\"\n",
        "    Bisection method to find the root of the function f(x) in the interval [a, b]\n",
        "    with a given tolerance tol.\n",
        "    \"\"\"\n",
        "    if f(a) * f(b) > 0:\n",
        "        raise ValueError(\"The function values at the interval endpoints must have opposite signs.\")\n",
        "\n",
        "    iteration = 0\n",
        "    while (b - a) / 2 > tol:\n",
        "        c = (a + b) / 2\n",
        "        if f(c) == 0:\n",
        "            break\n",
        "        elif f(c) * f(a) < 0:\n",
        "            b = c\n",
        "        else:\n",
        "            a = c\n",
        "        iteration += 1\n",
        "\n",
        "    root = (a + b) / 2\n",
        "    return root, iteration\n",
        "\n",
        "# Get user input for the equation, interval [a, b], and tolerance E\n",
        "equation = input(\"Enter the equation in terms of 'x' (e.g., x**3 - x - 1): \")\n",
        "f = lambda x: eval(equation)  # Convert the input string to a function\n",
        "\n",
        "a = float(input(\"Enter the lower bound of the interval: \"))\n",
        "b = float(input(\"Enter the upper bound of the interval: \"))\n",
        "E = float(input(\"Enter the tolerance (E): \"))\n",
        "\n",
        "# Find the root using the bisection method\n",
        "root, iterations = bisection_method(f, a, b, E)\n",
        "\n",
        "# Print the result\n",
        "print(f\"Root found: {root}\")\n",
        "print(f\"Iterations: {iterations}\")"
      ],
      "metadata": {
        "id": "rNfHkKdVYscQ",
        "colab": {
          "base_uri": "https://localhost:8080/"
        },
        "outputId": "2507c575-3928-4db2-fa65-6c6258410f89"
      },
      "execution_count": 1,
      "outputs": [
        {
          "output_type": "stream",
          "name": "stdout",
          "text": [
            "Enter the equation in terms of 'x' (e.g., x**3 - x - 1): x**3 - x - 1\n",
            "Enter the lower bound of the interval: 1\n",
            "Enter the upper bound of the interval: 2\n",
            "Enter the tolerance (E): 0.068\n",
            "Root found: 1.3125\n",
            "Iterations: 3\n"
          ]
        }
      ]
    }
  ],
  "metadata": {
    "colab": {
      "toc_visible": true,
      "provenance": [],
      "include_colab_link": true
    },
    "kernelspec": {
      "display_name": "Python 3",
      "name": "python3"
    }
  },
  "nbformat": 4,
  "nbformat_minor": 0
}